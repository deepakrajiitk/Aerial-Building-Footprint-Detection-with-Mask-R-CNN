{
 "cells": [
  {
   "cell_type": "code",
   "execution_count": 21,
   "metadata": {},
   "outputs": [],
   "source": [
    "import geopandas as gpd\n",
    "from shapely.geometry import Polygon\n",
    "import numpy as np\n",
    "import math\n",
    "import topojson as tp\n",
    "import pandas as pd"
   ]
  },
  {
   "cell_type": "code",
   "execution_count": 22,
   "metadata": {},
   "outputs": [],
   "source": [
    "# Load the Shapefile into a GeoDataFrame\n",
    "shapefile_path = '../results/Puttaparthi_Nallamada_Gopepalli_02627900/Gopepalli_geotiff_H1/output_Gopepalli_geotiff_H1.shp'\n",
    "gdf = gpd.read_file(shapefile_path)"
   ]
  },
  {
   "cell_type": "code",
   "execution_count": 23,
   "metadata": {},
   "outputs": [],
   "source": [
    "def calculate_min_angle_in_degrees(polygon):\n",
    "    # Extract the exterior ring of the polygon\n",
    "    exterior = polygon.exterior\n",
    "    # Get the coordinates of the vertices\n",
    "    coords = list(exterior.coords)\n",
    "    \n",
    "    # Calculate the angles between consecutive edges\n",
    "    angles = []\n",
    "    for i in range(len(coords) - 2):\n",
    "        v1 = (coords[i][0] - coords[i+1][0], coords[i][1] - coords[i+1][1])\n",
    "        v2 = (coords[i+2][0] - coords[i+1][0], coords[i+2][1] - coords[i+1][1])\n",
    "        dot_product = v1[0] * v2[0] + v1[1] * v2[1]\n",
    "        magnitude_product = (v1[0]**2 + v1[1]**2) * (v2[0]**2 + v2[1]**2)\n",
    "        angle_rad = math.acos(dot_product / math.sqrt(magnitude_product))\n",
    "        angle_deg = math.degrees(angle_rad)  # Convert radians to degrees\n",
    "        angles.append(angle_deg)\n",
    "    \n",
    "    # Find the minimum angle in degrees\n",
    "    min_angle_deg = min(angles)\n",
    "    \n",
    "    return min_angle_deg"
   ]
  },
  {
   "cell_type": "code",
   "execution_count": 24,
   "metadata": {},
   "outputs": [],
   "source": [
    "gdf['min_angle'] = gdf['geometry'].apply(calculate_min_angle_in_degrees)"
   ]
  },
  {
   "cell_type": "code",
   "execution_count": 25,
   "metadata": {},
   "outputs": [],
   "source": [
    "threshold = 75\n",
    "gdf_below_threshold = gdf[gdf['min_angle'] < threshold]\n",
    "gdf_above_threshold = gdf[gdf['min_angle'] >= threshold]"
   ]
  },
  {
   "cell_type": "code",
   "execution_count": 26,
   "metadata": {},
   "outputs": [],
   "source": [
    "# simplify polygons\n",
    "topo1 = tp.Topology(gdf_above_threshold)\n",
    "gdf_above_threshold = topo1.toposimplify(epsilon=1.55).to_gdf()\n",
    "topo2 = tp.Topology(gdf_below_threshold)\n",
    "gdf_below_threshold = topo2.toposimplify(epsilon=5, simplify_algorithm='vw', simplify_with='simplification', prevent_oversimplify=True).toposimplify(epsilon=5).to_gdf()"
   ]
  },
  {
   "cell_type": "code",
   "execution_count": 27,
   "metadata": {},
   "outputs": [],
   "source": [
    "combined_gdf = pd.concat([gdf_below_threshold, gdf_above_threshold], ignore_index=True)"
   ]
  },
  {
   "cell_type": "code",
   "execution_count": 28,
   "metadata": {},
   "outputs": [],
   "source": [
    "# Set your area threshold (e.g., 100 square units)\n",
    "area_threshold = 10  # Adjust this value as needed\n",
    "\n",
    "# Calculate the area of each polygon and add it as a new column\n",
    "combined_gdf['area'] = combined_gdf['geometry'].area\n",
    "\n",
    "# Filter the GeoDataFrame based on the area threshold\n",
    "filtered_gdf = combined_gdf[combined_gdf['area'] >= area_threshold]"
   ]
  },
  {
   "cell_type": "code",
   "execution_count": 29,
   "metadata": {},
   "outputs": [],
   "source": [
    "filtered_gdf.to_file('filtered_shapefile.shp')"
   ]
  }
 ],
 "metadata": {
  "kernelspec": {
   "display_name": "mrcnn_kernel",
   "language": "python",
   "name": "mrcnn_kernel"
  },
  "language_info": {
   "codemirror_mode": {
    "name": "ipython",
    "version": 3
   },
   "file_extension": ".py",
   "mimetype": "text/x-python",
   "name": "python",
   "nbconvert_exporter": "python",
   "pygments_lexer": "ipython3",
   "version": "3.8.0"
  },
  "orig_nbformat": 4
 },
 "nbformat": 4,
 "nbformat_minor": 2
}
