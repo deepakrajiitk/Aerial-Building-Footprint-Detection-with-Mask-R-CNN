{
 "cells": [
  {
   "cell_type": "markdown",
   "metadata": {},
   "source": [
    "### Importing Libraries"
   ]
  },
  {
   "cell_type": "code",
   "execution_count": null,
   "metadata": {},
   "outputs": [],
   "source": [
    "import os\n",
    "import geopandas as gpd\n",
    "from PIL import Image, ImageDraw\n",
    "import numpy as np\n",
    "Image.MAX_IMAGE_PIXELS = None\n",
    "from osgeo import gdal\n",
    "from shapely.geometry import shape, box\n",
    "import fiona\n",
    "import rasterio\n",
    "from rasterio.windows import Window"
   ]
  },
  {
   "cell_type": "markdown",
   "metadata": {},
   "source": [
    "### Cutting Tif files into 1024x1024 sized tif files"
   ]
  },
  {
   "cell_type": "code",
   "execution_count": null,
   "metadata": {},
   "outputs": [],
   "source": [
    "def is_tile_empty(data):\n",
    "    # Check if the tile contains any data (non-zero values)\n",
    "    try:\n",
    "        return np.all(data[3] == 0)\n",
    "    except Exception as e:\n",
    "        return True"
   ]
  },
  {
   "cell_type": "code",
   "execution_count": null,
   "metadata": {},
   "outputs": [],
   "source": [
    "def split_tiff(input_path, output_folder, tile_size):\n",
    "    try:\n",
    "        with rasterio.open(input_path) as src:\n",
    "            width, height = src.width, src.height\n",
    "            num_tiles_x = (width + tile_size - 1) // tile_size\n",
    "            num_tiles_y = (height + tile_size - 1) // tile_size\n",
    "\n",
    "            for tile_y in range(num_tiles_y):\n",
    "                for tile_x in range(num_tiles_x):\n",
    "                    left = tile_x * tile_size\n",
    "                    upper = tile_y * tile_size\n",
    "                    right = min(left + tile_size, width)\n",
    "                    lower = min(upper + tile_size, height)\n",
    "\n",
    "                    window = Window(left, upper, right - left, lower - upper)\n",
    "                    transform = src.window_transform(window)\n",
    "\n",
    "                    # Read the data within the window and create a new cropped raster\n",
    "                    data = src.read(window=window)\n",
    "                    profile = src.profile.copy()\n",
    "                    profile.update(width=right - left, height=lower - upper, transform=transform)\n",
    "                    \n",
    "                    if is_tile_empty(data):\n",
    "                        # Skip saving the file if it's empty\n",
    "                        continue\n",
    "\n",
    "                    # Extract the original file name without extension\n",
    "                    file_name = os.path.splitext(os.path.basename(input_path))[0]\n",
    "\n",
    "                    # Save the cropped raster with metadata\n",
    "                    tile_path = os.path.join(output_folder, f\"{file_name}_{tile_x}_{tile_y}.tif\")\n",
    "                    with rasterio.open(tile_path, 'w', **profile) as dst:\n",
    "                        dst.write(data)\n",
    "    except Exception as e:\n",
    "        print(f\"Error processing '{input_path}': {e}\")"
   ]
  },
  {
   "cell_type": "code",
   "execution_count": null,
   "metadata": {},
   "outputs": [],
   "source": [
    "def crop_directory(directory_path, output_path, tile_size):\n",
    "\n",
    "    for location_folder in os.listdir(directory_path):\n",
    "        location_folder_path = os.path.join(directory_path, location_folder)\n",
    "\n",
    "        geotiff_folder_path = os.path.join(location_folder_path, \"Geotiff\")\n",
    "\n",
    "        output_subfolder = os.path.join(\"Cropped_Tif_File\", location_folder)\n",
    "        output_folder = os.path.join(output_path, output_subfolder)\n",
    "        if not os.path.exists(output_folder):\n",
    "            os.makedirs(output_folder)\n",
    "        else:\n",
    "            continue\n",
    "        \n",
    "        if not os.path.exists(geotiff_folder_path):\n",
    "            print(\"path does not exists\", geotiff_folder_path)\n",
    "            continue\n",
    "\n",
    "        for file in os.listdir(geotiff_folder_path):\n",
    "            if file.endswith(\".tif\") or file.endswith(\".tiff\"):\n",
    "                input_file = os.path.join(geotiff_folder_path, file)\n",
    "                split_tiff(input_file, output_folder, tile_size)"
   ]
  },
  {
   "cell_type": "code",
   "execution_count": null,
   "metadata": {},
   "outputs": [],
   "source": [
    "home_directory = \"Orthos, DSMs & Shapefiles\"\n",
    "output_directory = \"Dataset\"\n",
    "tile_size = 1024\n",
    "\n",
    "crop_directory(home_directory, output_directory, tile_size)"
   ]
  },
  {
   "cell_type": "markdown",
   "metadata": {},
   "source": [
    "### Converting tif files to png files"
   ]
  },
  {
   "cell_type": "code",
   "execution_count": null,
   "metadata": {},
   "outputs": [],
   "source": [
    "from PIL import Image\n",
    "import os\n",
    "\n",
    "def convert_tif_to_png(tif_path, png_path):\n",
    "    if not os.path.exists(png_path):\n",
    "        os.makedirs(png_path)\n",
    "\n",
    "    # Get the list of TIF files in the tif_path directory\n",
    "    tif_files = [f for f in os.listdir(tif_path) if f.endswith('.tif')]\n",
    "\n",
    "    for tif_file in tif_files:\n",
    "        # Construct the full paths for TIF and PNG files\n",
    "        tif_file_path = os.path.join(tif_path, tif_file)\n",
    "        png_file_path = os.path.join(png_path, tif_file.replace('.tif', '.png'))\n",
    "\n",
    "        # Skip the file if the corresponding PNG file already exists\n",
    "        if os.path.exists(png_file_path):\n",
    "            continue\n",
    "\n",
    "        tif_image = Image.open(tif_file_path)\n",
    "\n",
    "        # Ensure the TIF image has four channels (R, G, B, and an additional channel)\n",
    "        if tif_image.mode != 'RGBA':\n",
    "            print(tif_file)\n",
    "            raise ValueError(\"The input TIF file should have 4 channels (RGBA).\")\n",
    "\n",
    "        # Separate the channels\n",
    "        r, g, b, a = tif_image.split()\n",
    "\n",
    "        # Create a new image with RGB mode (3 channels) and paste the RGB channels from the TIF\n",
    "        rgb_image = Image.merge(\"RGB\", (r, g, b))\n",
    "\n",
    "        rgb_image.save(png_file_path)\n",
    "        tif_image.close()"
   ]
  },
  {
   "cell_type": "code",
   "execution_count": null,
   "metadata": {},
   "outputs": [],
   "source": [
    "convert_tif_to_png(\"../Dataset/test_files/\", \"../Dataset/test_png_files/\")"
   ]
  },
  {
   "cell_type": "code",
   "execution_count": null,
   "metadata": {},
   "outputs": [],
   "source": [
    "tif_directory = \"Dataset/cropped_tif_files\"\n",
    "png_directory = \"Dataset/cropped_png_files\"\n",
    "\n",
    "places = os.listdir(tif_directory)\n",
    "\n",
    "for place in places:\n",
    "    print(place)\n",
    "    tif_place_path = os.path.join(tif_directory, place)\n",
    "    png_place_path = os.path.join(png_directory, place)\n",
    "    convert_tif_to_png(tif_place_path, png_place_path)"
   ]
  },
  {
   "cell_type": "markdown",
   "metadata": {},
   "source": [
    "### Removing unnecessary files"
   ]
  },
  {
   "cell_type": "code",
   "execution_count": null,
   "metadata": {},
   "outputs": [],
   "source": [
    "from PIL import Image\n",
    "import os\n"
   ]
  },
  {
   "cell_type": "code",
   "execution_count": null,
   "metadata": {},
   "outputs": [],
   "source": [
    "def is_mostly_empty(image_path, threshold):\n",
    "    image = Image.open(image_path)\n",
    "    width, height = image.size\n",
    "    pixel_data = list(image.getdata())\n",
    "\n",
    "    non_white_pixel_count = 0\n",
    "    for pixel in pixel_data:\n",
    "        if pixel != (255, 255, 255):  # White pixel in RGB is (255, 255, 255)\n",
    "            non_white_pixel_count += 1\n",
    "\n",
    "    per = non_white_pixel_count/(1024*1024)\n",
    "    per = per*100;\n",
    "    # if(per<threshold):\n",
    "    #     return True\n",
    "    # return False\n",
    "    return per"
   ]
  },
  {
   "cell_type": "code",
   "execution_count": null,
   "metadata": {},
   "outputs": [],
   "source": [
    "tif_directory = \"Dataset/cropped_tif_files\"\n",
    "png_directory = \"../Dataset/cropped_png_files\"\n",
    "\n",
    "places = os.listdir(png_directory)\n",
    "below_15 = []\n",
    "below_30 = []\n",
    "below_20 = []\n",
    "below_10 = []\n",
    "for place in places:\n",
    "    # print(place)\n",
    "    png_place_path = os.path.join(png_directory, place)\n",
    "    # Get the list of TIF files in the tif_path directory\n",
    "    png_files = [f for f in os.listdir(png_place_path) if f.endswith('.png')]\n",
    "\n",
    "    count = 0\n",
    "    for png_file in png_files:\n",
    "        png_file_path = os.path.join(png_place_path, png_file)\n",
    "        per = is_mostly_empty(png_file_path, 10)\n",
    "        if per<10:\n",
    "            count += 1\n",
    "            below_10.append(png_file_path)\n",
    "        elif per<15:\n",
    "            below_15.append(png_file_path)\n",
    "        elif per<20:\n",
    "            below_20.append(png_file_path)\n",
    "        elif per<30:\n",
    "            below_30.append(png_file_path)\n",
    "    # print(count)\n",
    "print(len(below_10))\n",
    "print(len(below_15))\n",
    "print(len(below_20))\n",
    "print(len(below_30))"
   ]
  },
  {
   "cell_type": "markdown",
   "metadata": {},
   "source": [
    "### Get polygons of a particular tif file"
   ]
  },
  {
   "cell_type": "code",
   "execution_count": null,
   "metadata": {},
   "outputs": [],
   "source": [
    "import rasterio\n",
    "\n",
    "def get_tif_bounding_box(tif_path):\n",
    "    with rasterio.open(tif_path) as dataset:\n",
    "        bounds = dataset.bounds\n",
    "        min_x, min_y, max_x, max_y = bounds.left, bounds.bottom, bounds.right, bounds.top\n",
    "        return (min_x, min_y, max_x, max_y)"
   ]
  },
  {
   "cell_type": "code",
   "execution_count": null,
   "metadata": {},
   "outputs": [],
   "source": [
    "# # Function to get the bounding box of the TIF file\n",
    "# def get_tif_bounding_box(tif_path):\n",
    "#     # Replace this with the appropriate code to obtain the bounding box from the TIF file.\n",
    "#     # For example, using GDAL library to read raster metadata.\n",
    "#     # Here's an example assuming you are using GDAL:\n",
    "#     ds = gdal.Open(tif_path)\n",
    "#     ulx, xres, xskew, uly, yskew, yres = ds.GetGeoTransform()\n",
    "#     lrx = ulx + (ds.RasterXSize * xres)\n",
    "#     lry = uly + (ds.RasterYSize * yres)\n",
    "#     return (ulx, uly, lrx, lry)"
   ]
  },
  {
   "cell_type": "code",
   "execution_count": null,
   "metadata": {},
   "outputs": [],
   "source": [
    "def get_polygons_shp_file(shp_path):\n",
    "    print(shp_path)\n",
    "    # Open the shapefile and read the polygons:\n",
    "    polygons = []\n",
    "    with fiona.open(shp_path, \"r\") as shapefile:\n",
    "        for feature in shapefile:\n",
    "            geometry = shape(feature[\"geometry\"])\n",
    "            polygons.append((geometry, feature[\"properties\"]))\n",
    "    return polygons"
   ]
  },
  {
   "cell_type": "code",
   "execution_count": null,
   "metadata": {},
   "outputs": [],
   "source": [
    "def get_filtered_polygons(polygons, tif_path):\n",
    "    # Get the bounding box of the TIF file\n",
    "    tif_bbox = get_tif_bounding_box(tif_path)\n",
    "    \n",
    "    # Filter the polygons based on the intersection with the TIF file's bounding box:\n",
    "    filtered_polygons = []\n",
    "    for polygon, properties in polygons:\n",
    "        polygon_bbox = polygon.bounds\n",
    "        if box(*tif_bbox).intersects(box(*polygon_bbox)):\n",
    "            filtered_polygons.append(polygon)\n",
    "\n",
    "    return filtered_polygons"
   ]
  },
  {
   "cell_type": "code",
   "execution_count": null,
   "metadata": {},
   "outputs": [],
   "source": [
    "import fiona \n",
    "from shapely.geometry import shape, box\n",
    "\n",
    "shp_path = \"../Dataset/annotations/Chigicherla_Builtup_Area.shp\"\n",
    "tif_path = \"../Dataset/cropped_tif_files/Chigicherla/Chigichrla_Ortho_H1_2_10.tif\"\n",
    "\n",
    "polygons = get_polygons_shp_file(shp_path)\n",
    "filtered_polygons = get_filtered_polygons(polygons, tif_path)\n",
    "print(len(filtered_polygons))"
   ]
  },
  {
   "cell_type": "markdown",
   "metadata": {},
   "source": [
    "### Create masks"
   ]
  },
  {
   "cell_type": "code",
   "execution_count": null,
   "metadata": {},
   "outputs": [],
   "source": [
    "import rasterio\n",
    "# code to convert CRS coordinate to pixel coordinate\n",
    "dataset = rasterio.open(\"../Dataset/cropped_tif_files/Chigicherla/Chigichrla_Ortho_H1_2_10.tif\")\n",
    "height = dataset.height\n",
    "width = dataset.width\n",
    "transform = dataset.transform"
   ]
  },
  {
   "cell_type": "code",
   "execution_count": null,
   "metadata": {},
   "outputs": [],
   "source": [
    "def fill_between(polygon):\n",
    "    \"\"\"\n",
    "    Returns: a bool array\n",
    "    \"\"\"\n",
    "    img = Image.new('1', (width, height), False)\n",
    "    ImageDraw.Draw(img).polygon(polygon, outline=True, fill=True)\n",
    "    mask = np.array(img)\n",
    "\n",
    "    return mask"
   ]
  },
  {
   "cell_type": "code",
   "execution_count": null,
   "metadata": {},
   "outputs": [],
   "source": [
    "import numpy as np\n",
    "from PIL import Image, ImageDraw\n",
    "\n",
    "# Step 1: Initialize masks with the shape (height, width, number_of_polygons)\n",
    "masks = np.zeros((height, width, len(filtered_polygons)), dtype=np.uint8)\n",
    "\n",
    "# Step 2, 3, and 4: Loop through the filtered polygons, generate masks, and stack them\n",
    "for idx, polygon in enumerate(filtered_polygons):\n",
    "    coordinates = list()\n",
    "    for point in polygon.exterior.coords:\n",
    "        x, y = point\n",
    "        pixel_x, pixel_y = ~transform * (x, y)\n",
    "        pixel_x = width - 1 if pixel_x > width else pixel_x\n",
    "        pixel_y = height - 1 if pixel_y > height else pixel_y\n",
    "        coordinates.append((pixel_x, pixel_y))\n",
    "    \n",
    "    mask = fill_between(coordinates)\n",
    "    masks[:, :, idx] = mask\n",
    "\n",
    "# Step 5: Create a single image with different colors for each mask\n",
    "unique_colors = np.random.randint(0, 255, (len(filtered_polygons), 3), dtype=np.uint8)\n",
    "output_image = np.zeros((height, width, 3), dtype=np.uint8)\n",
    "\n",
    "for idx, color in enumerate(unique_colors):\n",
    "    mask_idx = np.where(masks[:, :, idx])\n",
    "    output_image[mask_idx] = color\n",
    "\n",
    "# Save the output image\n",
    "output_image_pil = Image.fromarray(output_image)\n",
    "output_image_pil.save('combined_masks.png')"
   ]
  }
 ],
 "metadata": {
  "kernelspec": {
   "display_name": "building-detect",
   "language": "python",
   "name": "python3"
  },
  "language_info": {
   "codemirror_mode": {
    "name": "ipython",
    "version": 3
   },
   "file_extension": ".py",
   "mimetype": "text/x-python",
   "name": "python",
   "nbconvert_exporter": "python",
   "pygments_lexer": "ipython3",
   "version": "3.8.17"
  },
  "orig_nbformat": 4
 },
 "nbformat": 4,
 "nbformat_minor": 2
}
